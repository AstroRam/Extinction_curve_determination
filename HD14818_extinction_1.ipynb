{
 "cells": [
  {
   "cell_type": "code",
   "execution_count": 1,
   "metadata": {
    "scrolled": true
   },
   "outputs": [],
   "source": [
    "import numpy as np\n",
    "import pandas as pd\n",
    "import matplotlib.pyplot as plt\n",
    "from astropy import units as u\n",
    "from specutils.spectra import Spectrum1D, SpectralRegion\n",
    "from specutils.fitting import fit_generic_continuum\n",
    "data = np.loadtxt('HD14818.txt')\n",
    "x = data[:, 0]\n",
    "y = data[:, 1]\n",
    "flux=y*(u.erg / (u.cm ** 2 * u.s * u.AA))\n",
    "spectral_axis = x*u.AA\n",
    "spectrum = Spectrum1D(flux, spectral_axis)\n",
    "from matplotlib import pyplot as plt\n",
    "plt.plot(spectrum.spectral_axis, spectrum.flux) \n",
    "plt.xlabel('Spectral Axis ({})'.format(spectrum.spectral_axis.unit)) \n",
    "plt.ylabel('Flux Axis({})'.format(spectrum.flux.unit)) \n",
    "plt.grid(True) "
   ]
  },
  {
   "cell_type": "code",
   "execution_count": 2,
   "metadata": {},
   "outputs": [
    {
     "data": {
      "text/latex": [
       "$[3.8913039 \\times 10^{-12},~4.5764759 \\times 10^{-12},~4.884604 \\times 10^{-12},~\\dots,~4.0744259 \\times 10^{-11},~4.024785 \\times 10^{-11},~2.0624199 \\times 10^{-11}] \\; \\mathrm{\\frac{erg}{\\mathring{A}\\,s\\,cm^{2}}}$"
      ],
      "text/plain": [
       "<Quantity [3.8913039e-12, 4.5764759e-12, 4.8846040e-12, ..., 4.0744259e-11,\n",
       "           4.0247850e-11, 2.0624199e-11] erg / (Angstrom cm2 s)>"
      ]
     },
     "execution_count": 2,
     "metadata": {},
     "output_type": "execute_result"
    }
   ],
   "source": [
    "flux"
   ]
  },
  {
   "cell_type": "code",
   "execution_count": 3,
   "metadata": {
    "scrolled": true
   },
   "outputs": [
    {
     "data": {
      "text/latex": [
       "$[1150.581,~1152.257,~1153.934,~\\dots,~3343.572,~3346.241,~3348.91] \\; \\mathrm{\\mathring{A}}$"
      ],
      "text/plain": [
       "<Quantity [1150.581, 1152.257, 1153.934, ..., 3343.572, 3346.241, 3348.91 ] Angstrom>"
      ]
     },
     "execution_count": 3,
     "metadata": {},
     "output_type": "execute_result"
    }
   ],
   "source": [
    "spectral_axis"
   ]
  },
  {
   "cell_type": "code",
   "execution_count": 4,
   "metadata": {},
   "outputs": [],
   "source": [
    "#flux=flux.to(u.erg / (u.cm ** 2 * u.s * u.micron))"
   ]
  },
  {
   "cell_type": "code",
   "execution_count": 5,
   "metadata": {},
   "outputs": [],
   "source": [
    "#spectral_axis=spectral_axis.to(u.micron)  \n"
   ]
  },
  {
   "cell_type": "code",
   "execution_count": 6,
   "metadata": {},
   "outputs": [
    {
     "data": {
      "text/latex": [
       "$[1150.581,~1152.257,~1153.934,~\\dots,~3343.572,~3346.241,~3348.91] \\; \\mathrm{\\mathring{A}}$"
      ],
      "text/plain": [
       "<Quantity [1150.581, 1152.257, 1153.934, ..., 3343.572, 3346.241, 3348.91 ] Angstrom>"
      ]
     },
     "execution_count": 6,
     "metadata": {},
     "output_type": "execute_result"
    }
   ],
   "source": [
    "spectral_axis"
   ]
  },
  {
   "cell_type": "code",
   "execution_count": 7,
   "metadata": {},
   "outputs": [
    {
     "data": {
      "text/latex": [
       "$[3.8913039 \\times 10^{-12},~4.5764759 \\times 10^{-12},~4.884604 \\times 10^{-12},~\\dots,~4.0744259 \\times 10^{-11},~4.024785 \\times 10^{-11},~2.0624199 \\times 10^{-11}] \\; \\mathrm{\\frac{erg}{\\mathring{A}\\,s\\,cm^{2}}}$"
      ],
      "text/plain": [
       "<Quantity [3.8913039e-12, 4.5764759e-12, 4.8846040e-12, ..., 4.0744259e-11,\n",
       "           4.0247850e-11, 2.0624199e-11] erg / (Angstrom cm2 s)>"
      ]
     },
     "execution_count": 7,
     "metadata": {},
     "output_type": "execute_result"
    }
   ],
   "source": [
    "flux"
   ]
  },
  {
   "cell_type": "code",
   "execution_count": 8,
   "metadata": {
    "scrolled": true
   },
   "outputs": [
    {
     "data": {
      "image/png": "[encoded data removed]",
      "text/plain": [
       "<Figure size 432x288 with 1 Axes>"
      ]
     },
     "metadata": {
      "needs_background": "light"
     },
     "output_type": "display_data"
    }
   ],
   "source": [
    "from astropy import units as u\n",
    "#spectral_axis.to(u.micron)  \n",
    "#flux.to(u.erg / (u.cm ** 2 * u.s * u.micron))\n",
    "spectrum = Spectrum1D(flux, spectral_axis)\n",
    "from matplotlib import pyplot as plt\n",
    "plt.plot(spectrum.spectral_axis, spectrum.flux) \n",
    "plt.xlabel('Wavelength Axis({})'.format(spectrum.spectral_axis.unit)) \n",
    "plt.ylabel('Flux Axis({})'.format(spectrum.flux.unit)) \n",
    "plt.grid(True) "
   ]
  },
  {
   "cell_type": "code",
   "execution_count": 25,
   "metadata": {},
   "outputs": [],
   "source": [
    "from specutils.manipulation import FluxConservingResampler, LinearInterpolatedResampler, SplineInterpolatedResampler\n",
    "new_disp_grid = np.arange(1150, 3348, 5) * u.AA"
   ]
  },
  {
   "cell_type": "code",
   "execution_count": 26,
   "metadata": {},
   "outputs": [],
   "source": [
    "#new_disp_grid=new_disp_grid.to(u.micron)\n"
   ]
  },
  {
   "cell_type": "code",
   "execution_count": 27,
   "metadata": {},
   "outputs": [
    {
     "data": {
      "text/latex": [
       "$[1150,~1155,~1160,~\\dots,~3335,~3340,~3345] \\; \\mathrm{\\mathring{A}}$"
      ],
      "text/plain": [
       "<Quantity [1150., 1155., 1160., 1165., 1170., 1175., 1180., 1185., 1190.,\n",
       "           1195., 1200., 1205., 1210., 1215., 1220., 1225., 1230., 1235.,\n",
       "           1240., 1245., 1250., 1255., 1260., 1265., 1270., 1275., 1280.,\n",
       "           1285., 1290., 1295., 1300., 1305., 1310., 1315., 1320., 1325.,\n",
       "           1330., 1335., 1340., 1345., 1350., 1355., 1360., 1365., 1370.,\n",
       "           1375., 1380., 1385., 1390., 1395., 1400., 1405., 1410., 1415.,\n",
       "           1420., 1425., 1430., 1435., 1440., 1445., 1450., 1455., 1460.,\n",
       "           1465., 1470., 1475., 1480., 1485., 1490., 1495., 1500., 1505.,\n",
       "           1510., 1515., 1520., 1525., 1530., 1535., 1540., 1545., 1550.,\n",
       "           1555., 1560., 1565., 1570., 1575., 1580., 1585., 1590., 1595.,\n",
       "           1600., 1605., 1610., 1615., 1620., 1625., 1630., 1635., 1640.,\n",
       "           1645., 1650., 1655., 1660., 1665., 1670., 1675., 1680., 1685.,\n",
       "           1690., 1695., 1700., 1705., 1710., 1715., 1720., 1725., 1730.,\n",
       "           1735., 1740., 1745., 1750., 1755., 1760., 1765., 1770., 1775.,\n",
       "           1780., 1785., 1790., 1795., 1800., 1805., 1810., 1815., 1820.,\n",
       "           1825., 1830., 1835., 1840., 1845., 1850., 1855., 1860., 1865.,\n",
       "           1870., 1875., 1880., 1885., 1890., 1895., 1900., 1905., 1910.,\n",
       "           1915., 1920., 1925., 1930., 1935., 1940., 1945., 1950., 1955.,\n",
       "           1960., 1965., 1970., 1975., 1980., 1985., 1990., 1995., 2000.,\n",
       "           2005., 2010., 2015., 2020., 2025., 2030., 2035., 2040., 2045.,\n",
       "           2050., 2055., 2060., 2065., 2070., 2075., 2080., 2085., 2090.,\n",
       "           2095., 2100., 2105., 2110., 2115., 2120., 2125., 2130., 2135.,\n",
       "           2140., 2145., 2150., 2155., 2160., 2165., 2170., 2175., 2180.,\n",
       "           2185., 2190., 2195., 2200., 2205., 2210., 2215., 2220., 2225.,\n",
       "           2230., 2235., 2240., 2245., 2250., 2255., 2260., 2265., 2270.,\n",
       "           2275., 2280., 2285., 2290., 2295., 2300., 2305., 2310., 2315.,\n",
       "           2320., 2325., 2330., 2335., 2340., 2345., 2350., 2355., 2360.,\n",
       "           2365., 2370., 2375., 2380., 2385., 2390., 2395., 2400., 2405.,\n",
       "           2410., 2415., 2420., 2425., 2430., 2435., 2440., 2445., 2450.,\n",
       "           2455., 2460., 2465., 2470., 2475., 2480., 2485., 2490., 2495.,\n",
       "           2500., 2505., 2510., 2515., 2520., 2525., 2530., 2535., 2540.,\n",
       "           2545., 2550., 2555., 2560., 2565., 2570., 2575., 2580., 2585.,\n",
       "           2590., 2595., 2600., 2605., 2610., 2615., 2620., 2625., 2630.,\n",
       "           2635., 2640., 2645., 2650., 2655., 2660., 2665., 2670., 2675.,\n",
       "           2680., 2685., 2690., 2695., 2700., 2705., 2710., 2715., 2720.,\n",
       "           2725., 2730., 2735., 2740., 2745., 2750., 2755., 2760., 2765.,\n",
       "           2770., 2775., 2780., 2785., 2790., 2795., 2800., 2805., 2810.,\n",
       "           2815., 2820., 2825., 2830., 2835., 2840., 2845., 2850., 2855.,\n",
       "           2860., 2865., 2870., 2875., 2880., 2885., 2890., 2895., 2900.,\n",
       "           2905., 2910., 2915., 2920., 2925., 2930., 2935., 2940., 2945.,\n",
       "           2950., 2955., 2960., 2965., 2970., 2975., 2980., 2985., 2990.,\n",
       "           2995., 3000., 3005., 3010., 3015., 3020., 3025., 3030., 3035.,\n",
       "           3040., 3045., 3050., 3055., 3060., 3065., 3070., 3075., 3080.,\n",
       "           3085., 3090., 3095., 3100., 3105., 3110., 3115., 3120., 3125.,\n",
       "           3130., 3135., 3140., 3145., 3150., 3155., 3160., 3165., 3170.,\n",
       "           3175., 3180., 3185., 3190., 3195., 3200., 3205., 3210., 3215.,\n",
       "           3220., 3225., 3230., 3235., 3240., 3245., 3250., 3255., 3260.,\n",
       "           3265., 3270., 3275., 3280., 3285., 3290., 3295., 3300., 3305.,\n",
       "           3310., 3315., 3320., 3325., 3330., 3335., 3340., 3345.] Angstrom>"
      ]
     },
     "execution_count": 27,
     "metadata": {},
     "output_type": "execute_result"
    }
   ],
   "source": [
    "new_disp_grid"
   ]
  },
  {
   "cell_type": "code",
   "execution_count": 28,
   "metadata": {},
   "outputs": [
    {
     "name": "stderr",
     "output_type": "stream",
     "text": [
      "/home/ram/snap/jupyter/common/lib/python3.7/site-packages/astropy/units/quantity.py:477: RuntimeWarning: invalid value encountered in true_divide\n",
      "  result = super().__array_ufunc__(function, method, *arrays, **kwargs)\n"
     ]
    },
    {
     "data": {
      "text/plain": [
       "[<matplotlib.lines.Line2D at 0x7f1125575438>]"
      ]
     },
     "execution_count": 28,
     "metadata": {},
     "output_type": "execute_result"
    },
    {
     "data": {
      "image/png": "[encoded data removed]",
      "text/plain": [
       "<Figure size 432x288 with 1 Axes>"
      ]
     },
     "metadata": {
      "needs_background": "light"
     },
     "output_type": "display_data"
    }
   ],
   "source": [
    "fluxcon = FluxConservingResampler()\n",
    "new_spec_fluxcon = fluxcon(spectrum, new_disp_grid) \n",
    "f, ax = plt.subplots()  \n",
    "ax.step(new_spec_fluxcon.spectral_axis, new_spec_fluxcon.flux) \n"
   ]
  },
  {
   "cell_type": "code",
   "execution_count": 30,
   "metadata": {},
   "outputs": [
    {
     "name": "stdout",
     "output_type": "stream",
     "text": [
      "[1150. 1155. 1160. 1165. 1170. 1175. 1180. 1185. 1190. 1195. 1200. 1205.\n",
      " 1210. 1215. 1220. 1225. 1230. 1235. 1240. 1245. 1250. 1255. 1260. 1265.\n",
      " 1270. 1275. 1280. 1285. 1290. 1295. 1300. 1305. 1310. 1315. 1320. 1325.\n",
      " 1330. 1335. 1340. 1345. 1350. 1355. 1360. 1365. 1370. 1375. 1380. 1385.\n",
      " 1390. 1395. 1400. 1405. 1410. 1415. 1420. 1425. 1430. 1435. 1440. 1445.\n",
      " 1450. 1455. 1460. 1465. 1470. 1475. 1480. 1485. 1490. 1495. 1500. 1505.\n",
      " 1510. 1515. 1520. 1525. 1530. 1535. 1540. 1545. 1550. 1555. 1560. 1565.\n",
      " 1570. 1575. 1580. 1585. 1590. 1595. 1600. 1605. 1610. 1615. 1620. 1625.\n",
      " 1630. 1635. 1640. 1645. 1650. 1655. 1660. 1665. 1670. 1675. 1680. 1685.\n",
      " 1690. 1695. 1700. 1705. 1710. 1715. 1720. 1725. 1730. 1735. 1740. 1745.\n",
      " 1750. 1755. 1760. 1765. 1770. 1775. 1780. 1785. 1790. 1795. 1800. 1805.\n",
      " 1810. 1815. 1820. 1825. 1830. 1835. 1840. 1845. 1850. 1855. 1860. 1865.\n",
      " 1870. 1875. 1880. 1885. 1890. 1895. 1900. 1905. 1910. 1915. 1920. 1925.\n",
      " 1930. 1935. 1940. 1945. 1950. 1955. 1960. 1965. 1970. 1975. 1980. 1985.\n",
      " 1990. 1995. 2000. 2005. 2010. 2015. 2020. 2025. 2030. 2035. 2040. 2045.\n",
      " 2050. 2055. 2060. 2065. 2070. 2075. 2080. 2085. 2090. 2095. 2100. 2105.\n",
      " 2110. 2115. 2120. 2125. 2130. 2135. 2140. 2145. 2150. 2155. 2160. 2165.\n",
      " 2170. 2175. 2180. 2185. 2190. 2195. 2200. 2205. 2210. 2215. 2220. 2225.\n",
      " 2230. 2235. 2240. 2245. 2250. 2255. 2260. 2265. 2270. 2275. 2280. 2285.\n",
      " 2290. 2295. 2300. 2305. 2310. 2315. 2320. 2325. 2330. 2335. 2340. 2345.\n",
      " 2350. 2355. 2360. 2365. 2370. 2375. 2380. 2385. 2390. 2395. 2400. 2405.\n",
      " 2410. 2415. 2420. 2425. 2430. 2435. 2440. 2445. 2450. 2455. 2460. 2465.\n",
      " 2470. 2475. 2480. 2485. 2490. 2495. 2500. 2505. 2510. 2515. 2520. 2525.\n",
      " 2530. 2535. 2540. 2545. 2550. 2555. 2560. 2565. 2570. 2575. 2580. 2585.\n",
      " 2590. 2595. 2600. 2605. 2610. 2615. 2620. 2625. 2630. 2635. 2640. 2645.\n",
      " 2650. 2655. 2660. 2665. 2670. 2675. 2680. 2685. 2690. 2695. 2700. 2705.\n",
      " 2710. 2715. 2720. 2725. 2730. 2735. 2740. 2745. 2750. 2755. 2760. 2765.\n",
      " 2770. 2775. 2780. 2785. 2790. 2795. 2800. 2805. 2810. 2815. 2820. 2825.\n",
      " 2830. 2835. 2840. 2845. 2850. 2855. 2860. 2865. 2870. 2875. 2880. 2885.\n",
      " 2890. 2895. 2900. 2905. 2910. 2915. 2920. 2925. 2930. 2935. 2940. 2945.\n",
      " 2950. 2955. 2960. 2965. 2970. 2975. 2980. 2985. 2990. 2995. 3000. 3005.\n",
      " 3010. 3015. 3020. 3025. 3030. 3035. 3040. 3045. 3050. 3055. 3060. 3065.\n",
      " 3070. 3075. 3080. 3085. 3090. 3095. 3100. 3105. 3110. 3115. 3120. 3125.\n",
      " 3130. 3135. 3140. 3145. 3150. 3155. 3160. 3165. 3170. 3175. 3180. 3185.\n",
      " 3190. 3195. 3200. 3205. 3210. 3215. 3220. 3225. 3230. 3235. 3240. 3245.\n",
      " 3250. 3255. 3260. 3265. 3270. 3275. 3280. 3285. 3290. 3295. 3300. 3305.\n",
      " 3310. 3315. 3320. 3325. 3330. 3335. 3340. 3345.] Angstrom\n"
     ]
    }
   ],
   "source": [
    "print(new_spec_fluxcon.spectral_axis)"
   ]
  },
  {
   "cell_type": "code",
   "execution_count": 31,
   "metadata": {
    "scrolled": false
   },
   "outputs": [
    {
     "data": {
      "text/latex": [
       "$[{\\rm NaN},~5.0648896 \\times 10^{-12},~4.6437201 \\times 10^{-12},~\\dots,~3.0976535 \\times 10^{-11},~4.4449653 \\times 10^{-11},~4.0486795 \\times 10^{-11}] \\; \\mathrm{\\frac{erg}{\\mathring{A}\\,s\\,cm^{2}}}$"
      ],
      "text/plain": [
       "<Quantity [           nan, 5.06488961e-12, 4.64372015e-12, 5.33435182e-12,\n",
       "           4.06490266e-12, 2.92856980e-12, 4.68946302e-12, 5.09289785e-12,\n",
       "           3.63557001e-12, 3.95967606e-12, 2.03672963e-12, 1.01287208e-12,\n",
       "           1.95380851e-12, 2.78368732e-12, 1.75495106e-12, 2.45971823e-12,\n",
       "           4.45251044e-12, 5.98229683e-12, 7.97449121e-12, 8.10021015e-12,\n",
       "           7.46680657e-12, 7.84598567e-12, 6.51552601e-12, 8.41708140e-12,\n",
       "           9.46452876e-12, 8.67342433e-12, 9.47651289e-12, 9.13035539e-12,\n",
       "           8.60419078e-12, 7.14613865e-12, 6.17147988e-12, 8.82574683e-12,\n",
       "           1.13458150e-11, 1.10266984e-11, 1.14205569e-11, 9.92221350e-12,\n",
       "           7.46992095e-12, 9.93031245e-12, 1.14758062e-11, 1.07874735e-11,\n",
       "           1.29868231e-11, 1.31267054e-11, 1.22888314e-11, 1.23967607e-11,\n",
       "           1.26652251e-11, 1.14693231e-11, 1.12655918e-11, 1.10473800e-11,\n",
       "           7.33641788e-12, 9.43689661e-12, 7.83932222e-12, 1.30661705e-11,\n",
       "           1.35930577e-11, 1.23983881e-11, 1.20670878e-11, 1.31271023e-11,\n",
       "           1.42207250e-11, 1.42340797e-11, 1.47891339e-11, 1.47444450e-11,\n",
       "           1.50743433e-11, 1.49253433e-11, 1.57144442e-11, 1.39297946e-11,\n",
       "           1.34316999e-11, 1.34936719e-11, 1.32055278e-11, 1.36663404e-11,\n",
       "           1.46654768e-11, 1.33371666e-11, 1.14365436e-11, 1.27203349e-11,\n",
       "           1.18719980e-11, 1.15575181e-11, 1.33096569e-11, 1.12291877e-11,\n",
       "           1.03722981e-11, 9.99488865e-12, 8.41559765e-12, 6.16960683e-12,\n",
       "           1.34624674e-11, 1.29506133e-11, 1.12883055e-11, 1.19107915e-11,\n",
       "           1.22743873e-11, 1.25554282e-11, 1.24742668e-11, 1.43471771e-11,\n",
       "           1.38879213e-11, 1.33560696e-11, 1.28185932e-11, 1.17044933e-11,\n",
       "           1.16297466e-11, 1.35870155e-11, 1.28025924e-11, 1.35374158e-11,\n",
       "           1.34878000e-11, 1.57804750e-11, 1.59162386e-11, 1.65561963e-11,\n",
       "           1.55136306e-11, 1.44682841e-11, 1.47504407e-11, 1.50961722e-11,\n",
       "           1.43026022e-11, 1.54274777e-11, 1.66259560e-11, 1.58090340e-11,\n",
       "           1.46496885e-11, 1.42499006e-11, 1.46298437e-11, 1.35458751e-11,\n",
       "           1.22163467e-11, 1.09194175e-11, 1.01715700e-11, 1.26118254e-11,\n",
       "           1.34618768e-11, 1.38307078e-11, 1.23276653e-11, 1.14763644e-11,\n",
       "           1.23345794e-11, 1.46329608e-11, 1.47825437e-11, 1.40511945e-11,\n",
       "           1.13603092e-11, 1.18161773e-11, 1.39753289e-11, 1.38333235e-11,\n",
       "           1.27142469e-11, 1.47482511e-11, 1.53032665e-11, 1.37139771e-11,\n",
       "           1.27090892e-11, 1.25296494e-11, 1.21998719e-11, 1.23770024e-11,\n",
       "           1.26666085e-11, 1.21835478e-11, 1.01037323e-11, 7.76263457e-12,\n",
       "           6.27958590e-12, 8.79311290e-12, 9.04733003e-12, 1.06359892e-11,\n",
       "           1.07081240e-11, 1.11653339e-11, 8.45418891e-12, 6.52025462e-12,\n",
       "           5.69564763e-12, 6.91226821e-12, 8.08269405e-12, 7.58698370e-12,\n",
       "           6.96125005e-12, 6.83151295e-12, 6.03324475e-12, 5.48486607e-12,\n",
       "           6.62333215e-12, 7.80628542e-12, 7.01328109e-12, 7.19729440e-12,\n",
       "           5.99307029e-12, 5.12587363e-12, 5.25704807e-12, 6.48326900e-12,\n",
       "           8.24613726e-12, 7.90534331e-12, 6.14480504e-12, 5.03266652e-12,\n",
       "           4.60421981e-12, 3.93483337e-12, 4.26523870e-12, 4.49750440e-12,\n",
       "           4.98457399e-12, 5.43367990e-12, 6.32171142e-12, 5.70192115e-12,\n",
       "           5.05166956e-12, 5.42402199e-12, 3.91614932e-12, 4.31376923e-12,\n",
       "           3.75939192e-12, 4.03237634e-12, 3.83006219e-12, 3.72931728e-12,\n",
       "           4.13795562e-12, 5.22769235e-12, 4.82740032e-12, 4.47213166e-12,\n",
       "           4.33140510e-12, 3.16258351e-12, 3.02759593e-12, 2.93243414e-12,\n",
       "           3.68742668e-12, 3.56109892e-12, 3.26961859e-12, 4.15228141e-12,\n",
       "           4.20961180e-12, 3.92165483e-12, 3.34530359e-12, 3.31994067e-12,\n",
       "           2.83950258e-12, 3.24665901e-12, 3.65522026e-12, 3.11138085e-12,\n",
       "           3.59199970e-12, 3.57978558e-12, 3.83363067e-12, 3.71077452e-12,\n",
       "           3.61141746e-12, 3.22750090e-12, 3.80237592e-12, 3.67717870e-12,\n",
       "           3.58499764e-12, 3.57011861e-12, 3.24472687e-12, 3.73946512e-12,\n",
       "           3.76428289e-12, 3.38818222e-12, 3.99232983e-12, 3.72721766e-12,\n",
       "           4.14242273e-12, 4.25580242e-12, 3.87589532e-12, 4.26661642e-12,\n",
       "           4.96273270e-12, 5.08015452e-12, 5.56997432e-12, 5.14927319e-12,\n",
       "           5.36474648e-12, 5.09833622e-12, 5.10083339e-12, 5.91878466e-12,\n",
       "           6.02113455e-12, 6.27047065e-12, 6.36141991e-12, 5.61401658e-12,\n",
       "           5.96281644e-12, 5.85018499e-12, 6.06667351e-12, 5.96065797e-12,\n",
       "           6.26727587e-12, 7.01914825e-12, 7.30766824e-12, 7.67021135e-12,\n",
       "           7.96653216e-12, 7.59732081e-12, 7.51452079e-12, 8.07447953e-12,\n",
       "           8.29956783e-12, 8.23115600e-12, 8.77120217e-12, 9.05091921e-12,\n",
       "           8.60895169e-12, 9.07820036e-12, 9.37106313e-12, 9.84772956e-12,\n",
       "           1.04501564e-11, 1.00506855e-11, 9.82374929e-12, 9.64452879e-12,\n",
       "           1.01139207e-11, 1.10290783e-11, 1.03736550e-11, 1.08820994e-11,\n",
       "           1.05857935e-11, 1.05245637e-11, 1.10838754e-11, 1.04362736e-11,\n",
       "           1.19390562e-11, 1.23398407e-11, 1.17992740e-11, 1.23207920e-11,\n",
       "           1.18642798e-11, 1.23816162e-11, 1.29461712e-11, 1.21336715e-11,\n",
       "           1.25997348e-11, 1.22932967e-11, 1.08085336e-11, 1.13021820e-11,\n",
       "           1.32255207e-11, 1.37311390e-11, 1.41004655e-11, 1.23376100e-11,\n",
       "           1.29195261e-11, 1.35833733e-11, 1.26795571e-11, 1.25774451e-11,\n",
       "           1.29494334e-11, 1.39834102e-11, 1.32943920e-11, 1.23291247e-11,\n",
       "           1.35412094e-11, 1.39179187e-11, 1.29724575e-11, 1.35075189e-11,\n",
       "           1.34911654e-11, 1.44777138e-11, 1.38216925e-11, 1.52856763e-11,\n",
       "           1.49988600e-11, 1.53833980e-11, 1.46218491e-11, 1.43147612e-11,\n",
       "           1.51451847e-11, 1.48542954e-11, 1.43982188e-11, 1.47463666e-11,\n",
       "           1.48761790e-11, 1.46412664e-11, 1.41449778e-11, 1.50515490e-11,\n",
       "           1.47096363e-11, 1.45976557e-11, 1.43564521e-11, 1.37305197e-11,\n",
       "           1.39924495e-11, 1.39191346e-11, 1.36821035e-11, 1.39474538e-11,\n",
       "           1.43428383e-11, 1.48292558e-11, 1.48665180e-11, 1.53195833e-11,\n",
       "           1.51910704e-11, 1.47998393e-11, 1.44634778e-11, 1.51034679e-11,\n",
       "           1.36375284e-11, 1.40436786e-11, 1.25556218e-11, 1.42138459e-11,\n",
       "           1.44407146e-11, 1.43412527e-11, 1.44524538e-11, 1.50355760e-11,\n",
       "           1.47252118e-11, 1.47390101e-11, 1.44046324e-11, 1.49227046e-11,\n",
       "           1.39160921e-11, 1.43031932e-11, 1.54489419e-11, 1.50092116e-11,\n",
       "           1.50516018e-11, 1.47150123e-11, 1.50395667e-11, 1.58143427e-11,\n",
       "           1.60570304e-11, 1.46433119e-11, 1.48265060e-11, 1.54895482e-11,\n",
       "           1.71192177e-11, 1.70483306e-11, 1.65375351e-11, 1.69998180e-11,\n",
       "           1.70920153e-11, 1.69206946e-11, 1.62907670e-11, 1.69411432e-11,\n",
       "           1.75094423e-11, 1.56725994e-11, 1.79733547e-11, 1.68715807e-11,\n",
       "           1.68457878e-11, 1.78399099e-11, 1.71076183e-11, 1.74729910e-11,\n",
       "           1.86977890e-11, 1.70674813e-11, 1.75869171e-11, 1.57791542e-11,\n",
       "           1.66690873e-11, 1.64318467e-11, 1.67790892e-11, 1.86328326e-11,\n",
       "           1.80598760e-11, 1.91485125e-11, 1.66951580e-11, 1.69889073e-11,\n",
       "           1.72563676e-11, 1.79808908e-11, 1.64826124e-11, 1.72474272e-11,\n",
       "           1.69931011e-11, 1.65720562e-11, 1.63200288e-11, 1.57815358e-11,\n",
       "           1.55801259e-11, 1.51811929e-11, 1.52242605e-11, 1.59480486e-11,\n",
       "           1.62742331e-11, 1.77834767e-11, 1.65876423e-11, 1.75754028e-11,\n",
       "           1.71209377e-11, 1.66512919e-11, 1.72394520e-11, 1.78882977e-11,\n",
       "           1.63323310e-11, 1.55567167e-11, 1.52108012e-11, 1.46679897e-11,\n",
       "           1.52446768e-11, 1.67940807e-11, 1.63064732e-11, 1.46699085e-11,\n",
       "           1.57535620e-11, 1.52555396e-11, 1.45526526e-11, 1.52134737e-11,\n",
       "           1.74177866e-11, 1.75028793e-11, 1.46001783e-11, 1.73312036e-11,\n",
       "           1.54402883e-11, 1.60314254e-11, 1.88953410e-11, 1.87592866e-11,\n",
       "           1.71866794e-11, 1.61885777e-11, 1.74495123e-11, 1.98998920e-11,\n",
       "           1.66972692e-11, 2.13603636e-11, 1.79249673e-11, 1.46719180e-11,\n",
       "           1.43446519e-11, 1.78392658e-11, 1.81641294e-11, 2.31321677e-11,\n",
       "           2.36305175e-11, 2.04047327e-11, 1.87962665e-11, 1.63747743e-11,\n",
       "           2.65848710e-11, 3.09765348e-11, 4.44496533e-11, 4.04867949e-11] erg / (Angstrom cm2 s)>"
      ]
     },
     "execution_count": 31,
     "metadata": {},
     "output_type": "execute_result"
    }
   ],
   "source": [
    "new_spec_fluxcon.flux"
   ]
  },
  {
   "cell_type": "code",
   "execution_count": 32,
   "metadata": {},
   "outputs": [],
   "source": [
    "x=np.array(new_spec_fluxcon.spectral_axis)"
   ]
  },
  {
   "cell_type": "code",
   "execution_count": 33,
   "metadata": {},
   "outputs": [],
   "source": [
    "y=np.array(new_spec_fluxcon.flux)"
   ]
  },
  {
   "cell_type": "code",
   "execution_count": 34,
   "metadata": {},
   "outputs": [],
   "source": [
    "import numpy as np\n",
    "np.savetxt('14818_20_y.txt', y, delimiter=',')"
   ]
  },
  {
   "cell_type": "code",
   "execution_count": 37,
   "metadata": {},
   "outputs": [],
   "source": [
    "import numpy as np\n",
    "data = np.loadtxt('LWR14722LL_t1.txt')\n",
    "x = data[:, 0]\n",
    "y = data[:, 1]"
   ]
  },
  {
   "cell_type": "code",
   "execution_count": 38,
   "metadata": {},
   "outputs": [],
   "source": [
    "from scipy.interpolate import interp1d\n",
    "f = interp1d(x, y)\n",
    "f2 = interp1d(x, y, kind='cubic')"
   ]
  },
  {
   "cell_type": "code",
   "execution_count": 41,
   "metadata": {},
   "outputs": [],
   "source": [
    "xnew=np.arange(start=1600, stop=3500, step=1)"
   ]
  },
  {
   "cell_type": "code",
   "execution_count": null,
   "metadata": {},
   "outputs": [],
   "source": []
  }
 ],
 "metadata": {
  "kernelspec": {
   "display_name": "Python 3",
   "language": "python",
   "name": "python3"
  },
  "language_info": {
   "codemirror_mode": {
    "name": "ipython",
    "version": 3
   },
   "file_extension": ".py",
   "mimetype": "text/x-python",
   "name": "python",
   "nbconvert_exporter": "python",
   "pygments_lexer": "ipython3",
   "version": "3.7.3"
  }
 },
 "nbformat": 4,
 "nbformat_minor": 2
}
